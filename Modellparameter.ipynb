{
 "cells": [
  {
   "cell_type": "markdown",
   "id": "071d90e4-583c-443e-bd11-649446199a8a",
   "metadata": {},
   "source": [
    "# Modellparameter\n",
    "\n",
    "In diesem Modell sind die Eingangsparameter des Systems hinterlegt. Sie können hier einfach angepasst werden."
   ]
  },
  {
   "cell_type": "markdown",
   "id": "cdb594c9-5519-44e2-b14f-507a524bdae3",
   "metadata": {},
   "source": [
    "### Eingangsparameter\n",
    "\n",
    "Diese Parameter sind die wichtigen Größen zur Bestimmung des Systems. Sie verändern den Betrachtungsraum."
   ]
  },
  {
   "cell_type": "code",
   "execution_count": 4,
   "id": "45cd45f6-f9e1-4e36-a245-cd9276e58bae",
   "metadata": {},
   "outputs": [],
   "source": [
    "temperature = np.arange(0, 100, 10) #[°C] # Quellentemperatur\n",
    "length = np.arange(0, 200, 50) #[m] # Trassenlänge\n",
    "number = np.arange(0,6,1) #[-] # Anzahl der Hausanschlüsse\n",
    "\n",
    "model.cp_w = Param(initialize=4.18) #[kJ/kgK] # Wärmekapazität Wasser bei Normalbedingung\n",
    "\n",
    "model.I = RangeSet(len(temperature))  # Indizes für T_Quelle\n",
    "model.L = RangeSet(len(length))  # Indizes für Leitungslängen\n",
    "model.Z = RangeSet(len(number)) # Indizes für Hausanschlüsse\n",
    "\n",
    "model.n = Set(dimen=3, initialize=[(i, l, z) for i in model.I for l in model.L for z in model.Z])\n",
    "\n",
    "# Parametrisierung der Randbedingungen:\n",
    "\n",
    "# Komponente\n",
    "model.L_l = Param(model.n, mutable=True, initialize=50) \n",
    "model.T_Quelle = Param(model.n, mutable=True, initialize=10) \n",
    "model.S_n = Param(model.n, mutable=True, initialize=1)\n",
    "\n",
    "# Quelle\n",
    "model.K_Quelle = 170E3 #[€] # Kosten für die Erschließung einer Quelle nach Kassel, außer Erdwärmesonde\n",
    "model.Quelle_H_max = 5000000000 #[kW] # Annahme einer maximalen Quellenleistung, die zur Verfügung steht\n",
    "\n",
    "# Wärmepumpe\n",
    "model.WP_COP = Param(initialize=4.25) #Entnommen aus Kalkulation Cuxhaven\n",
    "model.WP_COP_carnot = 0.5 * model.WP_COP # Annahme aus Baumgartner et. al. 2019\n",
    "model.WP_T_Kondensator_max = 90 #[°C] #Maximale Kondensatortemperatur\n",
    "model.WP_Q_Kondensator_max = 50000000 #[kW] # Maximale Wärmeleistung der Wärmepumpe\n",
    "model.WP_P_max = 50000000 #[kW] # Maximale elektirsche Leistung der Wärmepumpe\n",
    "\n",
    "model.c_electricity = 30 #[ct/kWh]\n",
    "model.WP_invest = 1654.7 #[€/kW] # Spezifische Investitionskosten pro kW nach Baumgartner et. al.2019\n",
    "\n",
    "# Siedlung\n",
    "model.S_T_Soll = 60 #[°C] # Temperatur, die am Abnehmer mindestens erreicht werden soll!\n",
    "model.S_W_Haus = 27000 #[kWh/a] # Der Wärmebedarf eines Einfamilienhauses für ein Jahr\n",
    "model.Siedlung_Q_Haus = 17 #[kW] # Annahme Leistung nach Transparenzplattform\n",
    "model.S_Q_min = 500E3 #[kWh] # Mindestbedarf an Wärme für ein Netz\n",
    "model.A_k = 5000 #[€] # Kosten pro Hausanschluss; überschlagen"
   ]
  },
  {
   "cell_type": "code",
   "execution_count": null,
   "id": "b6136da5-6586-490c-9db4-81804a10607a",
   "metadata": {},
   "outputs": [],
   "source": []
  }
 ],
 "metadata": {
  "kernelspec": {
   "display_name": "Python 3 (ipykernel)",
   "language": "python",
   "name": "python3"
  },
  "language_info": {
   "codemirror_mode": {
    "name": "ipython",
    "version": 3
   },
   "file_extension": ".py",
   "mimetype": "text/x-python",
   "name": "python",
   "nbconvert_exporter": "python",
   "pygments_lexer": "ipython3",
   "version": "3.10.13"
  }
 },
 "nbformat": 4,
 "nbformat_minor": 5
}
