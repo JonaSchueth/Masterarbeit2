{
 "cells": [
  {
   "cell_type": "markdown",
   "id": "2c659685-4a14-46c0-a897-00001b913591",
   "metadata": {},
   "source": [
    "### Bilanzen\n",
    "\n",
    "In diesem Programm sind die Energie- Massen- und jegliche anderen Bilanzen wie Kalkulationen ausgeführt. Diese werden im Main-Programm aufs neue aufgerufen."
   ]
  },
  {
   "cell_type": "markdown",
   "id": "d438ace4-0e6e-4ecb-9906-27ef4bd7e47a",
   "metadata": {},
   "source": [
    "### Energiebilanzen\n",
    "\n",
    "Erstmal ohne Auflösung der Temperatur, da die Darstellung nichtlinear wäre und das die Komplexität des Modells strak beeinflusst."
   ]
  },
  {
   "cell_type": "code",
   "execution_count": null,
   "id": "9d356349-b169-4cab-a7e4-a14881842ef1",
   "metadata": {},
   "outputs": [],
   "source": [
    "### Quelle\n",
    "\n",
    "# Energiebilanz Wärmestrom aus der Quelle\n",
    "#model.Con_Quelle_Aus = Constraint( expr = model.Quelle_H_Aus[i,l,z] == model.Quelle_m_Aus[i,l,z] * model.cp_w * (model.T_Quelle[i,l,z] +273.15))\n",
    "model.Con_Quelle_Aus = Constraint( expr = model.Quelle_H_Aus[i,l,z] <= model.Quelle_H_max)\n",
    "            \n",
    "\n",
    "### Wärmepumpe\n",
    "\n",
    "# Bilanzen in die Wärmepumpe hinein\n",
    "model.Con_WP_Eingang_T = Constraint( expr = model.WP_T_Verdampfer[i,l,z] == model.T_Quelle[i,l,z])\n",
    "model.Con_WP_Ein_H = Constraint ( expr = model.WP_Q_Verdampfer[i,l,z] <= model.Quelle_H_Aus[i,l,z])\n",
    "\n",
    "\n",
    "# Energiebilanz in der Wärmepumpe\n",
    "model.Con_WP_COP = Constraint( expr = model.WP_Q_Kondensator[i,l,z] == model.WP_COP * model.WP_P_elektrisch[i,l,z])\n",
    "model.Con_WP_EB = Constraint( expr = model.WP_Q_Kondensator[i,l,z] == model.WP_P_elektrisch[i,l,z] + model.WP_Q_Verdampfer[i,l,z])\n",
    "'Q_Verdampfer hat keine EB'\n",
    "model.C_WP_T_balance = Constraint( expr = (model.WP_T_Kondensator[i,l,z] + 273.15) == (model.WP_T_Verdampfer[i,l,z] + 273.15) + model.WP_Q_Kondensator[i,l,z]*1000/model.WP_COP_carnot)\n",
    "\n",
    "model.Con_WP_P_max = Constraint ( expr = model.WP_P_elektrisch[i,l,z] <= model.WP_P_max)\n",
    "#model.C_WP_T_Kondensator_max = Constraint(expr = model.WP_T_Kondensator[i,l,z] <= model.WP_T_Kondensator_max)\n",
    "\n",
    "\n",
    "\n",
    "# Energiebilanz aus der Wärmepumpe heraus\n",
    "#model.C_WP_Ausgang = Constraint( expr = model.WP_Q_Kondensator[i,l,z] == model.WP_m_Kondensator[i,l,z] * model.cp_w * (model.WP_T_Kondensator[i,l,z] + 273.15))\n",
    "'Nichtlineare Gleichung'\n",
    "\n",
    "# Kalkulation Wärmepumpe\n",
    "model.C_WP_capex = Constraint( expr = model.WP_capex[i,l,z] == model.WP_P_elektrisch[i,l,z] * model.WP_invest) # Variabel von der Lesitung            \n",
    "model.C_WP_opex = Constraint( expr = model.WP_opex[i,l,z] == model.WP_P_elektrisch[i,l,z] * 8760 * model.c_electricity * 0.01)            \n",
    "                       \n",
    "\n",
    "# Energiebilanz Wärmepumpe-Leitung\n",
    "#model.Con_Leitung_EB = Constraint ( expr = model.L_H_Ein[i,l,z] == model.WP_Q_Kondensator[i,l,z] + model.Quelle_H_Aus[i,l,z])\n",
    "model.Con_Leitung_EB = Constraint ( expr = model.L_H_Ein[i,l,z] == model.WP_Q_Kondensator[i,l,z])\n",
    "\n",
    "#model.Con_Leitung_H_Ein = Constraint( expr = model.L_H_Ein[i,l,z] == model.m_L_Ein[i,l,z] * model.cp_w * (model.L_T_Ein[i,l,z] + 273.15))\n",
    "'Nichtlineare Gleichung'\n",
    "model.Con_Leitung_T_Ein = Constraint( expr = model.WP_T_Kondensator[i,l,z] == model.L_T_Ein[i,l,z])\n",
    "\n",
    "# Massenbilanz zur Leitung\n",
    "#model.Con_Leitung_MB = Constraint( expr = model.m_L_Ein[i,l,z] == model.WP_m_Kondensator[i,l,z] + model.Quelle_m_Aus[i,l,z])\n",
    "\n",
    "### Leitung\n",
    "\n",
    "# Energiebilanz der Leitungsverluste\n",
    "model.Con_Leitung_Verlust = Constraint( expr = model.L_H_Aus[i,l,z] == model.L_H_Ein[i,l,z] - model.L_Q_Verlust[i,l,z]*0.001)\n",
    "#model.Con_Leitung_H_Aus = Constraint( expr = model.L_H_Aus[i,l,z] == model.m_L_Ein[i,l,z] * model.cp_w * (model.L_T_Aus[i,l,z] + 273.15))\n",
    "'Nichtlineare Gleichung'\n",
    "model.Con_Leitung_Q_Verlust = Constraint( expr = model.L_Q_Verlust[i,l,z] == model.L_U * model.L_l[i,l,z] * (0.5 * (model.L_T_Ein[i,l,z] + model.L_T_Aus[i,l,z]) - model.T_Boden))\n",
    "model.Con_Leitung_T_Verlust = Constraint( expr = model.L_T_Aus[i,l,z] == model.L_T_Ein[i,l,z] * (1-0.15))\n",
    "'Aktuelle Annahme: Leitungsverlust von 15% -> m*c bleibt konstant, daher verlieren wir 15% der Temperatur'\n",
    "# Kalkulation Leitung            \n",
    "model.Con_Leitung_Capex = Constraint( expr = model.L_capex[i,l,z] == model.k_Leitung * model.L_l[i,l,z])\n",
    "\n",
    "### Siedlung\n",
    "\n",
    "# Energiebilanz\n",
    "model.Con_Siedlung_EB = Constraint( expr = model.S_Q_Ein[i,l,z] == model.L_H_Aus[i,l,z])\n",
    "model.Con_Siedlung_T = Constraint( expr = model.S_T_Ein[i,l,z] == model.L_T_Aus[i,l,z])\n",
    "#model.Con_Siedlung_H_Ein = Constraint( expr = model.S_Q_Ein[i,l,z] == model.m_L_Ein[i,l,z] * model.cp_w * (model.S_T_Ein[i,l,z] + 273.15))\n",
    "'Nichtlineare Gleichung'                                      \n",
    "model.C_S_T = Constraint( expr = model.S_T_Ein[i,l,z] == model.S_T_Soll)\n",
    "           \n",
    "#model.C_S_Q = Constraint( expr = model.S_Q_Ein[i,l,z] >= model.S_Q_min / 8760)\n",
    "model.Con_Siedlung_H = Constraint( expr = model.S_Q_Ein[i,l,z] == model.S_n[i,l,z] * model.S_Q_Haus)\n",
    "model.C_VB_W = Constraint( expr = model.S_W_gesamt[i,l,z] == model.S_Q_Ein[i,l,z] * 8760)\n",
    "\n",
    "# Kalkulation Siedlung\n",
    "model.C_A_capex = Constraint( expr = model.A_capex[i,l,z] == model.A_k * model.S_n[i,l,z])"
   ]
  }
 ],
 "metadata": {
  "kernelspec": {
   "display_name": "Python 3 (ipykernel)",
   "language": "python",
   "name": "python3"
  },
  "language_info": {
   "codemirror_mode": {
    "name": "ipython",
    "version": 3
   },
   "file_extension": ".py",
   "mimetype": "text/x-python",
   "name": "python",
   "nbconvert_exporter": "python",
   "pygments_lexer": "ipython3",
   "version": "3.10.13"
  }
 },
 "nbformat": 4,
 "nbformat_minor": 5
}
